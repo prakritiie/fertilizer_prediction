{
 "cells": [
  {
   "cell_type": "code",
   "execution_count": null,
   "metadata": {
    "_cell_guid": "b1076dfc-b9ad-4769-8c92-a6c4dae69d19",
    "_uuid": "8f2839f25d086af736a60e9eeb907d3b93b6e0e5",
    "execution": {
     "iopub.execute_input": "2025-06-21T11:14:50.973827Z",
     "iopub.status.busy": "2025-06-21T11:14:50.973458Z",
     "iopub.status.idle": "2025-06-21T11:14:51.415223Z",
     "shell.execute_reply": "2025-06-21T11:14:51.414024Z",
     "shell.execute_reply.started": "2025-06-21T11:14:50.973804Z"
    },
    "trusted": true
   },
   "outputs": [
    {
     "name": "stdout",
     "output_type": "stream",
     "text": [
      "/kaggle/input/playground-series-s5e6/sample_submission.csv\n",
      "/kaggle/input/playground-series-s5e6/train.csv\n",
      "/kaggle/input/playground-series-s5e6/test.csv\n"
     ]
    }
   ],
   "source": [
    "import numpy as np \n",
    "import pandas as pd\n",
    "\n",
    "import os\n",
    "for dirname, _, filenames in os.walk('/kaggle/input'):\n",
    "    for filename in filenames:\n",
    "        print(os.path.join(dirname, filename))\n"
   ]
  },
  {
   "cell_type": "code",
   "execution_count": 6,
   "metadata": {
    "execution": {
     "iopub.execute_input": "2025-06-21T11:14:51.417328Z",
     "iopub.status.busy": "2025-06-21T11:14:51.416918Z",
     "iopub.status.idle": "2025-06-21T11:14:51.940481Z",
     "shell.execute_reply": "2025-06-21T11:14:51.939621Z",
     "shell.execute_reply.started": "2025-06-21T11:14:51.417302Z"
    },
    "trusted": true
   },
   "outputs": [],
   "source": [
    "import pandas as pd\n",
    "import seaborn as sns \n",
    "import matplotlib.pyplot as plt\n",
    "import numpy as np\n"
   ]
  },
  {
   "cell_type": "code",
   "execution_count": 7,
   "metadata": {
    "execution": {
     "iopub.execute_input": "2025-06-21T11:14:51.942065Z",
     "iopub.status.busy": "2025-06-21T11:14:51.941558Z",
     "iopub.status.idle": "2025-06-21T11:14:53.536302Z",
     "shell.execute_reply": "2025-06-21T11:14:53.535267Z",
     "shell.execute_reply.started": "2025-06-21T11:14:51.942040Z"
    },
    "trusted": true
   },
   "outputs": [],
   "source": [
    "train = pd.read_csv('/kaggle/input/playground-series-s5e6/train.csv')\n",
    "test = pd.read_csv('/kaggle/input/playground-series-s5e6/test.csv')\n",
    "sample_submission = pd.read_csv('/kaggle/input/playground-series-s5e6/sample_submission.csv')\n",
    "\n"
   ]
  },
  {
   "cell_type": "code",
   "execution_count": 8,
   "metadata": {
    "execution": {
     "iopub.execute_input": "2025-06-21T11:14:53.538301Z",
     "iopub.status.busy": "2025-06-21T11:14:53.538034Z",
     "iopub.status.idle": "2025-06-21T11:14:53.713164Z",
     "shell.execute_reply": "2025-06-21T11:14:53.712335Z",
     "shell.execute_reply.started": "2025-06-21T11:14:53.538280Z"
    },
    "trusted": true
   },
   "outputs": [],
   "source": [
    "test1=pd.read_csv('/kaggle/input/playground-series-s5e6/test.csv')"
   ]
  },
  {
   "cell_type": "code",
   "execution_count": 9,
   "metadata": {
    "execution": {
     "iopub.execute_input": "2025-06-21T11:14:53.714167Z",
     "iopub.status.busy": "2025-06-21T11:14:53.713911Z",
     "iopub.status.idle": "2025-06-21T11:14:53.740133Z",
     "shell.execute_reply": "2025-06-21T11:14:53.739151Z",
     "shell.execute_reply.started": "2025-06-21T11:14:53.714149Z"
    },
    "trusted": true
   },
   "outputs": [
    {
     "data": {
      "text/html": [
       "<div>\n",
       "<style scoped>\n",
       "    .dataframe tbody tr th:only-of-type {\n",
       "        vertical-align: middle;\n",
       "    }\n",
       "\n",
       "    .dataframe tbody tr th {\n",
       "        vertical-align: top;\n",
       "    }\n",
       "\n",
       "    .dataframe thead th {\n",
       "        text-align: right;\n",
       "    }\n",
       "</style>\n",
       "<table border=\"1\" class=\"dataframe\">\n",
       "  <thead>\n",
       "    <tr style=\"text-align: right;\">\n",
       "      <th></th>\n",
       "      <th>id</th>\n",
       "      <th>Temparature</th>\n",
       "      <th>Humidity</th>\n",
       "      <th>Moisture</th>\n",
       "      <th>Soil Type</th>\n",
       "      <th>Crop Type</th>\n",
       "      <th>Nitrogen</th>\n",
       "      <th>Potassium</th>\n",
       "      <th>Phosphorous</th>\n",
       "    </tr>\n",
       "  </thead>\n",
       "  <tbody>\n",
       "    <tr>\n",
       "      <th>0</th>\n",
       "      <td>750000</td>\n",
       "      <td>31</td>\n",
       "      <td>70</td>\n",
       "      <td>52</td>\n",
       "      <td>Sandy</td>\n",
       "      <td>Wheat</td>\n",
       "      <td>34</td>\n",
       "      <td>11</td>\n",
       "      <td>24</td>\n",
       "    </tr>\n",
       "    <tr>\n",
       "      <th>1</th>\n",
       "      <td>750001</td>\n",
       "      <td>27</td>\n",
       "      <td>62</td>\n",
       "      <td>45</td>\n",
       "      <td>Red</td>\n",
       "      <td>Sugarcane</td>\n",
       "      <td>30</td>\n",
       "      <td>14</td>\n",
       "      <td>15</td>\n",
       "    </tr>\n",
       "    <tr>\n",
       "      <th>2</th>\n",
       "      <td>750002</td>\n",
       "      <td>28</td>\n",
       "      <td>72</td>\n",
       "      <td>28</td>\n",
       "      <td>Clayey</td>\n",
       "      <td>Ground Nuts</td>\n",
       "      <td>14</td>\n",
       "      <td>15</td>\n",
       "      <td>4</td>\n",
       "    </tr>\n",
       "    <tr>\n",
       "      <th>3</th>\n",
       "      <td>750003</td>\n",
       "      <td>37</td>\n",
       "      <td>53</td>\n",
       "      <td>57</td>\n",
       "      <td>Black</td>\n",
       "      <td>Ground Nuts</td>\n",
       "      <td>18</td>\n",
       "      <td>17</td>\n",
       "      <td>36</td>\n",
       "    </tr>\n",
       "    <tr>\n",
       "      <th>4</th>\n",
       "      <td>750004</td>\n",
       "      <td>31</td>\n",
       "      <td>55</td>\n",
       "      <td>32</td>\n",
       "      <td>Red</td>\n",
       "      <td>Pulses</td>\n",
       "      <td>13</td>\n",
       "      <td>19</td>\n",
       "      <td>14</td>\n",
       "    </tr>\n",
       "  </tbody>\n",
       "</table>\n",
       "</div>"
      ],
      "text/plain": [
       "       id  Temparature  Humidity  Moisture Soil Type    Crop Type  Nitrogen  \\\n",
       "0  750000           31        70        52     Sandy        Wheat        34   \n",
       "1  750001           27        62        45       Red    Sugarcane        30   \n",
       "2  750002           28        72        28    Clayey  Ground Nuts        14   \n",
       "3  750003           37        53        57     Black  Ground Nuts        18   \n",
       "4  750004           31        55        32       Red       Pulses        13   \n",
       "\n",
       "   Potassium  Phosphorous  \n",
       "0         11           24  \n",
       "1         14           15  \n",
       "2         15            4  \n",
       "3         17           36  \n",
       "4         19           14  "
      ]
     },
     "execution_count": 9,
     "metadata": {},
     "output_type": "execute_result"
    }
   ],
   "source": [
    "test1.head()"
   ]
  },
  {
   "cell_type": "code",
   "execution_count": 10,
   "metadata": {
    "execution": {
     "iopub.execute_input": "2025-06-21T11:14:53.741251Z",
     "iopub.status.busy": "2025-06-21T11:14:53.740978Z",
     "iopub.status.idle": "2025-06-21T11:14:53.753498Z",
     "shell.execute_reply": "2025-06-21T11:14:53.752637Z",
     "shell.execute_reply.started": "2025-06-21T11:14:53.741232Z"
    },
    "trusted": true
   },
   "outputs": [
    {
     "data": {
      "text/html": [
       "<div>\n",
       "<style scoped>\n",
       "    .dataframe tbody tr th:only-of-type {\n",
       "        vertical-align: middle;\n",
       "    }\n",
       "\n",
       "    .dataframe tbody tr th {\n",
       "        vertical-align: top;\n",
       "    }\n",
       "\n",
       "    .dataframe thead th {\n",
       "        text-align: right;\n",
       "    }\n",
       "</style>\n",
       "<table border=\"1\" class=\"dataframe\">\n",
       "  <thead>\n",
       "    <tr style=\"text-align: right;\">\n",
       "      <th></th>\n",
       "      <th>id</th>\n",
       "      <th>Temparature</th>\n",
       "      <th>Humidity</th>\n",
       "      <th>Moisture</th>\n",
       "      <th>Soil Type</th>\n",
       "      <th>Crop Type</th>\n",
       "      <th>Nitrogen</th>\n",
       "      <th>Potassium</th>\n",
       "      <th>Phosphorous</th>\n",
       "      <th>Fertilizer Name</th>\n",
       "    </tr>\n",
       "  </thead>\n",
       "  <tbody>\n",
       "    <tr>\n",
       "      <th>0</th>\n",
       "      <td>0</td>\n",
       "      <td>37</td>\n",
       "      <td>70</td>\n",
       "      <td>36</td>\n",
       "      <td>Clayey</td>\n",
       "      <td>Sugarcane</td>\n",
       "      <td>36</td>\n",
       "      <td>4</td>\n",
       "      <td>5</td>\n",
       "      <td>28-28</td>\n",
       "    </tr>\n",
       "    <tr>\n",
       "      <th>1</th>\n",
       "      <td>1</td>\n",
       "      <td>27</td>\n",
       "      <td>69</td>\n",
       "      <td>65</td>\n",
       "      <td>Sandy</td>\n",
       "      <td>Millets</td>\n",
       "      <td>30</td>\n",
       "      <td>6</td>\n",
       "      <td>18</td>\n",
       "      <td>28-28</td>\n",
       "    </tr>\n",
       "    <tr>\n",
       "      <th>2</th>\n",
       "      <td>2</td>\n",
       "      <td>29</td>\n",
       "      <td>63</td>\n",
       "      <td>32</td>\n",
       "      <td>Sandy</td>\n",
       "      <td>Millets</td>\n",
       "      <td>24</td>\n",
       "      <td>12</td>\n",
       "      <td>16</td>\n",
       "      <td>17-17-17</td>\n",
       "    </tr>\n",
       "    <tr>\n",
       "      <th>3</th>\n",
       "      <td>3</td>\n",
       "      <td>35</td>\n",
       "      <td>62</td>\n",
       "      <td>54</td>\n",
       "      <td>Sandy</td>\n",
       "      <td>Barley</td>\n",
       "      <td>39</td>\n",
       "      <td>12</td>\n",
       "      <td>4</td>\n",
       "      <td>10-26-26</td>\n",
       "    </tr>\n",
       "    <tr>\n",
       "      <th>4</th>\n",
       "      <td>4</td>\n",
       "      <td>35</td>\n",
       "      <td>58</td>\n",
       "      <td>43</td>\n",
       "      <td>Red</td>\n",
       "      <td>Paddy</td>\n",
       "      <td>37</td>\n",
       "      <td>2</td>\n",
       "      <td>16</td>\n",
       "      <td>DAP</td>\n",
       "    </tr>\n",
       "  </tbody>\n",
       "</table>\n",
       "</div>"
      ],
      "text/plain": [
       "   id  Temparature  Humidity  Moisture Soil Type  Crop Type  Nitrogen  \\\n",
       "0   0           37        70        36    Clayey  Sugarcane        36   \n",
       "1   1           27        69        65     Sandy    Millets        30   \n",
       "2   2           29        63        32     Sandy    Millets        24   \n",
       "3   3           35        62        54     Sandy     Barley        39   \n",
       "4   4           35        58        43       Red      Paddy        37   \n",
       "\n",
       "   Potassium  Phosphorous Fertilizer Name  \n",
       "0          4            5           28-28  \n",
       "1          6           18           28-28  \n",
       "2         12           16        17-17-17  \n",
       "3         12            4        10-26-26  \n",
       "4          2           16             DAP  "
      ]
     },
     "execution_count": 10,
     "metadata": {},
     "output_type": "execute_result"
    }
   ],
   "source": [
    "train.head()"
   ]
  },
  {
   "cell_type": "code",
   "execution_count": 11,
   "metadata": {
    "execution": {
     "iopub.execute_input": "2025-06-21T11:14:53.754776Z",
     "iopub.status.busy": "2025-06-21T11:14:53.754443Z",
     "iopub.status.idle": "2025-06-21T11:14:53.817492Z",
     "shell.execute_reply": "2025-06-21T11:14:53.816823Z",
     "shell.execute_reply.started": "2025-06-21T11:14:53.754755Z"
    },
    "trusted": true
   },
   "outputs": [
    {
     "data": {
      "text/plain": [
       "array(['Clayey', 'Sandy', 'Red', 'Loamy', 'Black'], dtype=object)"
      ]
     },
     "execution_count": 11,
     "metadata": {},
     "output_type": "execute_result"
    }
   ],
   "source": [
    "train['Soil Type'].unique()"
   ]
  },
  {
   "cell_type": "code",
   "execution_count": 12,
   "metadata": {
    "execution": {
     "iopub.execute_input": "2025-06-21T11:14:53.818652Z",
     "iopub.status.busy": "2025-06-21T11:14:53.818341Z",
     "iopub.status.idle": "2025-06-21T11:14:53.868984Z",
     "shell.execute_reply": "2025-06-21T11:14:53.868078Z",
     "shell.execute_reply.started": "2025-06-21T11:14:53.818631Z"
    },
    "trusted": true
   },
   "outputs": [
    {
     "data": {
      "text/plain": [
       "array(['Sugarcane', 'Millets', 'Barley', 'Paddy', 'Pulses', 'Tobacco',\n",
       "       'Ground Nuts', 'Maize', 'Cotton', 'Wheat', 'Oil seeds'],\n",
       "      dtype=object)"
      ]
     },
     "execution_count": 12,
     "metadata": {},
     "output_type": "execute_result"
    }
   ],
   "source": [
    "train['Crop Type'].unique()"
   ]
  },
  {
   "cell_type": "code",
   "execution_count": 13,
   "metadata": {
    "execution": {
     "iopub.execute_input": "2025-06-21T11:14:53.870161Z",
     "iopub.status.busy": "2025-06-21T11:14:53.869862Z",
     "iopub.status.idle": "2025-06-21T11:14:53.917925Z",
     "shell.execute_reply": "2025-06-21T11:14:53.917192Z",
     "shell.execute_reply.started": "2025-06-21T11:14:53.870136Z"
    },
    "trusted": true
   },
   "outputs": [
    {
     "data": {
      "text/plain": [
       "array(['28-28', '17-17-17', '10-26-26', 'DAP', '20-20', '14-35-14',\n",
       "       'Urea'], dtype=object)"
      ]
     },
     "execution_count": 13,
     "metadata": {},
     "output_type": "execute_result"
    }
   ],
   "source": [
    "train['Fertilizer Name'].unique()"
   ]
  },
  {
   "cell_type": "code",
   "execution_count": 14,
   "metadata": {
    "execution": {
     "iopub.execute_input": "2025-06-21T11:14:53.921163Z",
     "iopub.status.busy": "2025-06-21T11:14:53.920901Z",
     "iopub.status.idle": "2025-06-21T11:14:54.060339Z",
     "shell.execute_reply": "2025-06-21T11:14:54.059579Z",
     "shell.execute_reply.started": "2025-06-21T11:14:53.921145Z"
    },
    "trusted": true
   },
   "outputs": [
    {
     "name": "stdout",
     "output_type": "stream",
     "text": [
      "<class 'pandas.core.frame.DataFrame'>\n",
      "RangeIndex: 750000 entries, 0 to 749999\n",
      "Data columns (total 10 columns):\n",
      " #   Column           Non-Null Count   Dtype \n",
      "---  ------           --------------   ----- \n",
      " 0   id               750000 non-null  int64 \n",
      " 1   Temparature      750000 non-null  int64 \n",
      " 2   Humidity         750000 non-null  int64 \n",
      " 3   Moisture         750000 non-null  int64 \n",
      " 4   Soil Type        750000 non-null  object\n",
      " 5   Crop Type        750000 non-null  object\n",
      " 6   Nitrogen         750000 non-null  int64 \n",
      " 7   Potassium        750000 non-null  int64 \n",
      " 8   Phosphorous      750000 non-null  int64 \n",
      " 9   Fertilizer Name  750000 non-null  object\n",
      "dtypes: int64(7), object(3)\n",
      "memory usage: 57.2+ MB\n"
     ]
    }
   ],
   "source": [
    "train.info()"
   ]
  },
  {
   "cell_type": "code",
   "execution_count": 15,
   "metadata": {
    "execution": {
     "iopub.execute_input": "2025-06-21T11:14:54.061553Z",
     "iopub.status.busy": "2025-06-21T11:14:54.061271Z",
     "iopub.status.idle": "2025-06-21T11:14:54.072746Z",
     "shell.execute_reply": "2025-06-21T11:14:54.071796Z",
     "shell.execute_reply.started": "2025-06-21T11:14:54.061523Z"
    },
    "trusted": true
   },
   "outputs": [
    {
     "data": {
      "text/html": [
       "<div>\n",
       "<style scoped>\n",
       "    .dataframe tbody tr th:only-of-type {\n",
       "        vertical-align: middle;\n",
       "    }\n",
       "\n",
       "    .dataframe tbody tr th {\n",
       "        vertical-align: top;\n",
       "    }\n",
       "\n",
       "    .dataframe thead th {\n",
       "        text-align: right;\n",
       "    }\n",
       "</style>\n",
       "<table border=\"1\" class=\"dataframe\">\n",
       "  <thead>\n",
       "    <tr style=\"text-align: right;\">\n",
       "      <th></th>\n",
       "      <th>id</th>\n",
       "      <th>Temparature</th>\n",
       "      <th>Humidity</th>\n",
       "      <th>Moisture</th>\n",
       "      <th>Soil Type</th>\n",
       "      <th>Crop Type</th>\n",
       "      <th>Nitrogen</th>\n",
       "      <th>Potassium</th>\n",
       "      <th>Phosphorous</th>\n",
       "      <th>Fertilizer Name</th>\n",
       "    </tr>\n",
       "  </thead>\n",
       "  <tbody>\n",
       "    <tr>\n",
       "      <th>0</th>\n",
       "      <td>0</td>\n",
       "      <td>37</td>\n",
       "      <td>70</td>\n",
       "      <td>36</td>\n",
       "      <td>Clayey</td>\n",
       "      <td>Sugarcane</td>\n",
       "      <td>36</td>\n",
       "      <td>4</td>\n",
       "      <td>5</td>\n",
       "      <td>28-28</td>\n",
       "    </tr>\n",
       "    <tr>\n",
       "      <th>1</th>\n",
       "      <td>1</td>\n",
       "      <td>27</td>\n",
       "      <td>69</td>\n",
       "      <td>65</td>\n",
       "      <td>Sandy</td>\n",
       "      <td>Millets</td>\n",
       "      <td>30</td>\n",
       "      <td>6</td>\n",
       "      <td>18</td>\n",
       "      <td>28-28</td>\n",
       "    </tr>\n",
       "    <tr>\n",
       "      <th>2</th>\n",
       "      <td>2</td>\n",
       "      <td>29</td>\n",
       "      <td>63</td>\n",
       "      <td>32</td>\n",
       "      <td>Sandy</td>\n",
       "      <td>Millets</td>\n",
       "      <td>24</td>\n",
       "      <td>12</td>\n",
       "      <td>16</td>\n",
       "      <td>17-17-17</td>\n",
       "    </tr>\n",
       "    <tr>\n",
       "      <th>3</th>\n",
       "      <td>3</td>\n",
       "      <td>35</td>\n",
       "      <td>62</td>\n",
       "      <td>54</td>\n",
       "      <td>Sandy</td>\n",
       "      <td>Barley</td>\n",
       "      <td>39</td>\n",
       "      <td>12</td>\n",
       "      <td>4</td>\n",
       "      <td>10-26-26</td>\n",
       "    </tr>\n",
       "    <tr>\n",
       "      <th>4</th>\n",
       "      <td>4</td>\n",
       "      <td>35</td>\n",
       "      <td>58</td>\n",
       "      <td>43</td>\n",
       "      <td>Red</td>\n",
       "      <td>Paddy</td>\n",
       "      <td>37</td>\n",
       "      <td>2</td>\n",
       "      <td>16</td>\n",
       "      <td>DAP</td>\n",
       "    </tr>\n",
       "  </tbody>\n",
       "</table>\n",
       "</div>"
      ],
      "text/plain": [
       "   id  Temparature  Humidity  Moisture Soil Type  Crop Type  Nitrogen  \\\n",
       "0   0           37        70        36    Clayey  Sugarcane        36   \n",
       "1   1           27        69        65     Sandy    Millets        30   \n",
       "2   2           29        63        32     Sandy    Millets        24   \n",
       "3   3           35        62        54     Sandy     Barley        39   \n",
       "4   4           35        58        43       Red      Paddy        37   \n",
       "\n",
       "   Potassium  Phosphorous Fertilizer Name  \n",
       "0          4            5           28-28  \n",
       "1          6           18           28-28  \n",
       "2         12           16        17-17-17  \n",
       "3         12            4        10-26-26  \n",
       "4          2           16             DAP  "
      ]
     },
     "execution_count": 15,
     "metadata": {},
     "output_type": "execute_result"
    }
   ],
   "source": [
    "train.head()"
   ]
  },
  {
   "cell_type": "code",
   "execution_count": 16,
   "metadata": {
    "execution": {
     "iopub.execute_input": "2025-06-21T11:14:54.074221Z",
     "iopub.status.busy": "2025-06-21T11:14:54.073849Z",
     "iopub.status.idle": "2025-06-21T11:14:54.521172Z",
     "shell.execute_reply": "2025-06-21T11:14:54.520024Z",
     "shell.execute_reply.started": "2025-06-21T11:14:54.074196Z"
    },
    "trusted": true
   },
   "outputs": [],
   "source": [
    "from sklearn.preprocessing import LabelEncoder\n",
    "\n",
    "\n",
    "cat_cols = train.select_dtypes(include='object').columns\n",
    "for col in cat_cols:\n",
    "    le = LabelEncoder()\n",
    "    train[col] = le.fit_transform(train[col])\n"
   ]
  },
  {
   "cell_type": "code",
   "execution_count": 17,
   "metadata": {
    "execution": {
     "iopub.execute_input": "2025-06-21T11:14:54.522762Z",
     "iopub.status.busy": "2025-06-21T11:14:54.522489Z",
     "iopub.status.idle": "2025-06-21T11:14:54.628207Z",
     "shell.execute_reply": "2025-06-21T11:14:54.627337Z",
     "shell.execute_reply.started": "2025-06-21T11:14:54.522744Z"
    },
    "trusted": true
   },
   "outputs": [],
   "source": [
    "cat_cols = test.select_dtypes(include='object').columns\n",
    "for col in cat_cols:\n",
    "    le = LabelEncoder()\n",
    "    test[col] = le.fit_transform(test[col])"
   ]
  },
  {
   "cell_type": "code",
   "execution_count": 18,
   "metadata": {
    "execution": {
     "iopub.execute_input": "2025-06-21T11:14:54.629378Z",
     "iopub.status.busy": "2025-06-21T11:14:54.629123Z",
     "iopub.status.idle": "2025-06-21T11:14:54.644012Z",
     "shell.execute_reply": "2025-06-21T11:14:54.643082Z",
     "shell.execute_reply.started": "2025-06-21T11:14:54.629360Z"
    },
    "trusted": true
   },
   "outputs": [
    {
     "data": {
      "text/html": [
       "<div>\n",
       "<style scoped>\n",
       "    .dataframe tbody tr th:only-of-type {\n",
       "        vertical-align: middle;\n",
       "    }\n",
       "\n",
       "    .dataframe tbody tr th {\n",
       "        vertical-align: top;\n",
       "    }\n",
       "\n",
       "    .dataframe thead th {\n",
       "        text-align: right;\n",
       "    }\n",
       "</style>\n",
       "<table border=\"1\" class=\"dataframe\">\n",
       "  <thead>\n",
       "    <tr style=\"text-align: right;\">\n",
       "      <th></th>\n",
       "      <th>id</th>\n",
       "      <th>Temparature</th>\n",
       "      <th>Humidity</th>\n",
       "      <th>Moisture</th>\n",
       "      <th>Soil Type</th>\n",
       "      <th>Crop Type</th>\n",
       "      <th>Nitrogen</th>\n",
       "      <th>Potassium</th>\n",
       "      <th>Phosphorous</th>\n",
       "    </tr>\n",
       "  </thead>\n",
       "  <tbody>\n",
       "    <tr>\n",
       "      <th>0</th>\n",
       "      <td>750000</td>\n",
       "      <td>31</td>\n",
       "      <td>70</td>\n",
       "      <td>52</td>\n",
       "      <td>4</td>\n",
       "      <td>10</td>\n",
       "      <td>34</td>\n",
       "      <td>11</td>\n",
       "      <td>24</td>\n",
       "    </tr>\n",
       "    <tr>\n",
       "      <th>1</th>\n",
       "      <td>750001</td>\n",
       "      <td>27</td>\n",
       "      <td>62</td>\n",
       "      <td>45</td>\n",
       "      <td>3</td>\n",
       "      <td>8</td>\n",
       "      <td>30</td>\n",
       "      <td>14</td>\n",
       "      <td>15</td>\n",
       "    </tr>\n",
       "    <tr>\n",
       "      <th>2</th>\n",
       "      <td>750002</td>\n",
       "      <td>28</td>\n",
       "      <td>72</td>\n",
       "      <td>28</td>\n",
       "      <td>1</td>\n",
       "      <td>2</td>\n",
       "      <td>14</td>\n",
       "      <td>15</td>\n",
       "      <td>4</td>\n",
       "    </tr>\n",
       "    <tr>\n",
       "      <th>3</th>\n",
       "      <td>750003</td>\n",
       "      <td>37</td>\n",
       "      <td>53</td>\n",
       "      <td>57</td>\n",
       "      <td>0</td>\n",
       "      <td>2</td>\n",
       "      <td>18</td>\n",
       "      <td>17</td>\n",
       "      <td>36</td>\n",
       "    </tr>\n",
       "    <tr>\n",
       "      <th>4</th>\n",
       "      <td>750004</td>\n",
       "      <td>31</td>\n",
       "      <td>55</td>\n",
       "      <td>32</td>\n",
       "      <td>3</td>\n",
       "      <td>7</td>\n",
       "      <td>13</td>\n",
       "      <td>19</td>\n",
       "      <td>14</td>\n",
       "    </tr>\n",
       "    <tr>\n",
       "      <th>...</th>\n",
       "      <td>...</td>\n",
       "      <td>...</td>\n",
       "      <td>...</td>\n",
       "      <td>...</td>\n",
       "      <td>...</td>\n",
       "      <td>...</td>\n",
       "      <td>...</td>\n",
       "      <td>...</td>\n",
       "      <td>...</td>\n",
       "    </tr>\n",
       "    <tr>\n",
       "      <th>249995</th>\n",
       "      <td>999995</td>\n",
       "      <td>26</td>\n",
       "      <td>66</td>\n",
       "      <td>30</td>\n",
       "      <td>3</td>\n",
       "      <td>8</td>\n",
       "      <td>14</td>\n",
       "      <td>7</td>\n",
       "      <td>18</td>\n",
       "    </tr>\n",
       "    <tr>\n",
       "      <th>249996</th>\n",
       "      <td>999996</td>\n",
       "      <td>33</td>\n",
       "      <td>62</td>\n",
       "      <td>55</td>\n",
       "      <td>3</td>\n",
       "      <td>7</td>\n",
       "      <td>28</td>\n",
       "      <td>14</td>\n",
       "      <td>7</td>\n",
       "    </tr>\n",
       "    <tr>\n",
       "      <th>249997</th>\n",
       "      <td>999997</td>\n",
       "      <td>36</td>\n",
       "      <td>53</td>\n",
       "      <td>64</td>\n",
       "      <td>0</td>\n",
       "      <td>6</td>\n",
       "      <td>28</td>\n",
       "      <td>11</td>\n",
       "      <td>27</td>\n",
       "    </tr>\n",
       "    <tr>\n",
       "      <th>249998</th>\n",
       "      <td>999998</td>\n",
       "      <td>36</td>\n",
       "      <td>67</td>\n",
       "      <td>26</td>\n",
       "      <td>1</td>\n",
       "      <td>6</td>\n",
       "      <td>33</td>\n",
       "      <td>0</td>\n",
       "      <td>10</td>\n",
       "    </tr>\n",
       "    <tr>\n",
       "      <th>249999</th>\n",
       "      <td>999999</td>\n",
       "      <td>35</td>\n",
       "      <td>63</td>\n",
       "      <td>36</td>\n",
       "      <td>1</td>\n",
       "      <td>2</td>\n",
       "      <td>29</td>\n",
       "      <td>2</td>\n",
       "      <td>13</td>\n",
       "    </tr>\n",
       "  </tbody>\n",
       "</table>\n",
       "<p>250000 rows × 9 columns</p>\n",
       "</div>"
      ],
      "text/plain": [
       "            id  Temparature  Humidity  Moisture  Soil Type  Crop Type  \\\n",
       "0       750000           31        70        52          4         10   \n",
       "1       750001           27        62        45          3          8   \n",
       "2       750002           28        72        28          1          2   \n",
       "3       750003           37        53        57          0          2   \n",
       "4       750004           31        55        32          3          7   \n",
       "...        ...          ...       ...       ...        ...        ...   \n",
       "249995  999995           26        66        30          3          8   \n",
       "249996  999996           33        62        55          3          7   \n",
       "249997  999997           36        53        64          0          6   \n",
       "249998  999998           36        67        26          1          6   \n",
       "249999  999999           35        63        36          1          2   \n",
       "\n",
       "        Nitrogen  Potassium  Phosphorous  \n",
       "0             34         11           24  \n",
       "1             30         14           15  \n",
       "2             14         15            4  \n",
       "3             18         17           36  \n",
       "4             13         19           14  \n",
       "...          ...        ...          ...  \n",
       "249995        14          7           18  \n",
       "249996        28         14            7  \n",
       "249997        28         11           27  \n",
       "249998        33          0           10  \n",
       "249999        29          2           13  \n",
       "\n",
       "[250000 rows x 9 columns]"
      ]
     },
     "execution_count": 18,
     "metadata": {},
     "output_type": "execute_result"
    }
   ],
   "source": [
    "test"
   ]
  },
  {
   "cell_type": "code",
   "execution_count": 19,
   "metadata": {
    "execution": {
     "iopub.execute_input": "2025-06-21T11:14:54.646049Z",
     "iopub.status.busy": "2025-06-21T11:14:54.645065Z",
     "iopub.status.idle": "2025-06-21T11:14:54.666615Z",
     "shell.execute_reply": "2025-06-21T11:14:54.665689Z",
     "shell.execute_reply.started": "2025-06-21T11:14:54.646025Z"
    },
    "trusted": true
   },
   "outputs": [
    {
     "data": {
      "text/html": [
       "<div>\n",
       "<style scoped>\n",
       "    .dataframe tbody tr th:only-of-type {\n",
       "        vertical-align: middle;\n",
       "    }\n",
       "\n",
       "    .dataframe tbody tr th {\n",
       "        vertical-align: top;\n",
       "    }\n",
       "\n",
       "    .dataframe thead th {\n",
       "        text-align: right;\n",
       "    }\n",
       "</style>\n",
       "<table border=\"1\" class=\"dataframe\">\n",
       "  <thead>\n",
       "    <tr style=\"text-align: right;\">\n",
       "      <th></th>\n",
       "      <th>id</th>\n",
       "      <th>Temparature</th>\n",
       "      <th>Humidity</th>\n",
       "      <th>Moisture</th>\n",
       "      <th>Soil Type</th>\n",
       "      <th>Crop Type</th>\n",
       "      <th>Nitrogen</th>\n",
       "      <th>Potassium</th>\n",
       "      <th>Phosphorous</th>\n",
       "      <th>Fertilizer Name</th>\n",
       "    </tr>\n",
       "  </thead>\n",
       "  <tbody>\n",
       "    <tr>\n",
       "      <th>0</th>\n",
       "      <td>0</td>\n",
       "      <td>37</td>\n",
       "      <td>70</td>\n",
       "      <td>36</td>\n",
       "      <td>1</td>\n",
       "      <td>8</td>\n",
       "      <td>36</td>\n",
       "      <td>4</td>\n",
       "      <td>5</td>\n",
       "      <td>4</td>\n",
       "    </tr>\n",
       "    <tr>\n",
       "      <th>1</th>\n",
       "      <td>1</td>\n",
       "      <td>27</td>\n",
       "      <td>69</td>\n",
       "      <td>65</td>\n",
       "      <td>4</td>\n",
       "      <td>4</td>\n",
       "      <td>30</td>\n",
       "      <td>6</td>\n",
       "      <td>18</td>\n",
       "      <td>4</td>\n",
       "    </tr>\n",
       "    <tr>\n",
       "      <th>2</th>\n",
       "      <td>2</td>\n",
       "      <td>29</td>\n",
       "      <td>63</td>\n",
       "      <td>32</td>\n",
       "      <td>4</td>\n",
       "      <td>4</td>\n",
       "      <td>24</td>\n",
       "      <td>12</td>\n",
       "      <td>16</td>\n",
       "      <td>2</td>\n",
       "    </tr>\n",
       "    <tr>\n",
       "      <th>3</th>\n",
       "      <td>3</td>\n",
       "      <td>35</td>\n",
       "      <td>62</td>\n",
       "      <td>54</td>\n",
       "      <td>4</td>\n",
       "      <td>0</td>\n",
       "      <td>39</td>\n",
       "      <td>12</td>\n",
       "      <td>4</td>\n",
       "      <td>0</td>\n",
       "    </tr>\n",
       "    <tr>\n",
       "      <th>4</th>\n",
       "      <td>4</td>\n",
       "      <td>35</td>\n",
       "      <td>58</td>\n",
       "      <td>43</td>\n",
       "      <td>3</td>\n",
       "      <td>6</td>\n",
       "      <td>37</td>\n",
       "      <td>2</td>\n",
       "      <td>16</td>\n",
       "      <td>5</td>\n",
       "    </tr>\n",
       "  </tbody>\n",
       "</table>\n",
       "</div>"
      ],
      "text/plain": [
       "   id  Temparature  Humidity  Moisture  Soil Type  Crop Type  Nitrogen  \\\n",
       "0   0           37        70        36          1          8        36   \n",
       "1   1           27        69        65          4          4        30   \n",
       "2   2           29        63        32          4          4        24   \n",
       "3   3           35        62        54          4          0        39   \n",
       "4   4           35        58        43          3          6        37   \n",
       "\n",
       "   Potassium  Phosphorous  Fertilizer Name  \n",
       "0          4            5                4  \n",
       "1          6           18                4  \n",
       "2         12           16                2  \n",
       "3         12            4                0  \n",
       "4          2           16                5  "
      ]
     },
     "execution_count": 19,
     "metadata": {},
     "output_type": "execute_result"
    }
   ],
   "source": [
    "train.head()"
   ]
  },
  {
   "cell_type": "code",
   "execution_count": 20,
   "metadata": {
    "execution": {
     "iopub.execute_input": "2025-06-21T11:14:54.668097Z",
     "iopub.status.busy": "2025-06-21T11:14:54.667573Z",
     "iopub.status.idle": "2025-06-21T11:14:54.688258Z",
     "shell.execute_reply": "2025-06-21T11:14:54.687246Z",
     "shell.execute_reply.started": "2025-06-21T11:14:54.668066Z"
    },
    "trusted": true
   },
   "outputs": [
    {
     "data": {
      "text/html": [
       "<div>\n",
       "<style scoped>\n",
       "    .dataframe tbody tr th:only-of-type {\n",
       "        vertical-align: middle;\n",
       "    }\n",
       "\n",
       "    .dataframe tbody tr th {\n",
       "        vertical-align: top;\n",
       "    }\n",
       "\n",
       "    .dataframe thead th {\n",
       "        text-align: right;\n",
       "    }\n",
       "</style>\n",
       "<table border=\"1\" class=\"dataframe\">\n",
       "  <thead>\n",
       "    <tr style=\"text-align: right;\">\n",
       "      <th></th>\n",
       "      <th>id</th>\n",
       "      <th>Fertilizer Name</th>\n",
       "    </tr>\n",
       "  </thead>\n",
       "  <tbody>\n",
       "    <tr>\n",
       "      <th>0</th>\n",
       "      <td>750000</td>\n",
       "      <td>14-35-14 10-26-26 Urea</td>\n",
       "    </tr>\n",
       "    <tr>\n",
       "      <th>1</th>\n",
       "      <td>750001</td>\n",
       "      <td>14-35-14 10-26-26 Urea</td>\n",
       "    </tr>\n",
       "    <tr>\n",
       "      <th>2</th>\n",
       "      <td>750002</td>\n",
       "      <td>14-35-14 10-26-26 Urea</td>\n",
       "    </tr>\n",
       "    <tr>\n",
       "      <th>3</th>\n",
       "      <td>750003</td>\n",
       "      <td>14-35-14 10-26-26 Urea</td>\n",
       "    </tr>\n",
       "    <tr>\n",
       "      <th>4</th>\n",
       "      <td>750004</td>\n",
       "      <td>14-35-14 10-26-26 Urea</td>\n",
       "    </tr>\n",
       "  </tbody>\n",
       "</table>\n",
       "</div>"
      ],
      "text/plain": [
       "       id         Fertilizer Name\n",
       "0  750000  14-35-14 10-26-26 Urea\n",
       "1  750001  14-35-14 10-26-26 Urea\n",
       "2  750002  14-35-14 10-26-26 Urea\n",
       "3  750003  14-35-14 10-26-26 Urea\n",
       "4  750004  14-35-14 10-26-26 Urea"
      ]
     },
     "execution_count": 20,
     "metadata": {},
     "output_type": "execute_result"
    }
   ],
   "source": [
    "sample_submission.head()"
   ]
  },
  {
   "cell_type": "code",
   "execution_count": 21,
   "metadata": {
    "execution": {
     "iopub.execute_input": "2025-06-21T11:14:54.689849Z",
     "iopub.status.busy": "2025-06-21T11:14:54.689451Z",
     "iopub.status.idle": "2025-06-21T11:14:55.063389Z",
     "shell.execute_reply": "2025-06-21T11:14:55.062358Z",
     "shell.execute_reply.started": "2025-06-21T11:14:54.689820Z"
    },
    "trusted": true
   },
   "outputs": [
    {
     "data": {
      "image/png": "[encoded data removed]",
      "text/plain": [
       "<Figure size 1000x500 with 1 Axes>"
      ]
     },
     "metadata": {},
     "output_type": "display_data"
    }
   ],
   "source": [
    "plt.figure(figsize=(10, 5))\n",
    "sns.countplot(data=train, x='Temparature')\n",
    "plt.title('Fertilizer Label Distribution')\n",
    "plt.xlabel('Fertilizer Label')\n",
    "plt.ylabel('Count')\n",
    "plt.grid(axis='y')\n",
    "plt.show()\n"
   ]
  },
  {
   "cell_type": "code",
   "execution_count": 22,
   "metadata": {
    "execution": {
     "iopub.execute_input": "2025-06-21T11:14:55.064710Z",
     "iopub.status.busy": "2025-06-21T11:14:55.064360Z",
     "iopub.status.idle": "2025-06-21T11:14:55.690300Z",
     "shell.execute_reply": "2025-06-21T11:14:55.689098Z",
     "shell.execute_reply.started": "2025-06-21T11:14:55.064684Z"
    },
    "trusted": true
   },
   "outputs": [
    {
     "data": {
      "image/png": "[encoded data removed]",
      "text/plain": [
       "<Figure size 1200x600 with 1 Axes>"
      ]
     },
     "metadata": {},
     "output_type": "display_data"
    }
   ],
   "source": [
    "plt.figure(figsize=(12, 6))\n",
    "sns.countplot(data=train, x='Crop Type', hue='Fertilizer Name')\n",
    "plt.title(\"Fertilizer by Crop Type\", fontsize=14)\n",
    "plt.xlabel(\"Crop Type\", fontsize=12)\n",
    "plt.ylabel(\"Count\", fontsize=12)\n",
    "plt.legend(title='Fertilizer')\n",
    "plt.xticks(rotation=45)\n",
    "plt.tight_layout()\n",
    "plt.show()"
   ]
  },
  {
   "cell_type": "code",
   "execution_count": 23,
   "metadata": {
    "execution": {
     "iopub.execute_input": "2025-06-21T11:14:55.691941Z",
     "iopub.status.busy": "2025-06-21T11:14:55.691424Z",
     "iopub.status.idle": "2025-06-21T11:14:56.447380Z",
     "shell.execute_reply": "2025-06-21T11:14:56.446389Z",
     "shell.execute_reply.started": "2025-06-21T11:14:55.691897Z"
    },
    "trusted": true
   },
   "outputs": [
    {
     "data": {
      "image/png": "[encoded data removed]",
      "text/plain": [
       "<Figure size 1000x600 with 2 Axes>"
      ]
     },
     "metadata": {},
     "output_type": "display_data"
    }
   ],
   "source": [
    "plt.figure(figsize=(10, 6))\n",
    "sns.heatmap(train.corr(), annot=True, cmap='coolwarm')\n",
    "plt.title(\"Feature Correlation\")\n",
    "plt.show()"
   ]
  },
  {
   "cell_type": "code",
   "execution_count": 24,
   "metadata": {
    "execution": {
     "iopub.execute_input": "2025-06-21T11:14:56.448784Z",
     "iopub.status.busy": "2025-06-21T11:14:56.448390Z",
     "iopub.status.idle": "2025-06-21T11:14:56.454012Z",
     "shell.execute_reply": "2025-06-21T11:14:56.453091Z",
     "shell.execute_reply.started": "2025-06-21T11:14:56.448748Z"
    },
    "trusted": true
   },
   "outputs": [],
   "source": [
    "y=train['Fertilizer Name']"
   ]
  },
  {
   "cell_type": "code",
   "execution_count": 25,
   "metadata": {
    "execution": {
     "iopub.execute_input": "2025-06-21T11:14:56.455230Z",
     "iopub.status.busy": "2025-06-21T11:14:56.454894Z",
     "iopub.status.idle": "2025-06-21T11:14:56.501841Z",
     "shell.execute_reply": "2025-06-21T11:14:56.500965Z",
     "shell.execute_reply.started": "2025-06-21T11:14:56.455200Z"
    },
    "trusted": true
   },
   "outputs": [],
   "source": [
    "x=train.drop(['Fertilizer Name'],axis=1)"
   ]
  },
  {
   "cell_type": "code",
   "execution_count": null,
   "metadata": {
    "trusted": true
   },
   "outputs": [],
   "source": []
  },
  {
   "cell_type": "code",
   "execution_count": 26,
   "metadata": {
    "execution": {
     "iopub.execute_input": "2025-06-21T11:14:56.502940Z",
     "iopub.status.busy": "2025-06-21T11:14:56.502666Z",
     "iopub.status.idle": "2025-06-21T11:14:56.535604Z",
     "shell.execute_reply": "2025-06-21T11:14:56.534841Z",
     "shell.execute_reply.started": "2025-06-21T11:14:56.502922Z"
    },
    "trusted": true
   },
   "outputs": [],
   "source": [
    "train = train.drop(columns=['id'])\n",
    "test = test.drop(columns=['id'])"
   ]
  },
  {
   "cell_type": "code",
   "execution_count": 27,
   "metadata": {
    "execution": {
     "iopub.execute_input": "2025-06-21T11:14:56.536874Z",
     "iopub.status.busy": "2025-06-21T11:14:56.536565Z",
     "iopub.status.idle": "2025-06-21T11:14:56.952789Z",
     "shell.execute_reply": "2025-06-21T11:14:56.951887Z",
     "shell.execute_reply.started": "2025-06-21T11:14:56.536847Z"
    },
    "trusted": true
   },
   "outputs": [],
   "source": [
    "from sklearn.linear_model import Lasso, Ridge\n",
    "from sklearn.neighbors import KNeighborsRegressor\n",
    "from sklearn.tree import DecisionTreeRegressor\n",
    "from sklearn.ensemble import RandomForestRegressor\n",
    "from sklearn.metrics import r2_score"
   ]
  },
  {
   "cell_type": "code",
   "execution_count": 28,
   "metadata": {
    "execution": {
     "iopub.execute_input": "2025-06-21T11:14:56.954355Z",
     "iopub.status.busy": "2025-06-21T11:14:56.954079Z",
     "iopub.status.idle": "2025-06-21T11:14:56.958661Z",
     "shell.execute_reply": "2025-06-21T11:14:56.957770Z",
     "shell.execute_reply.started": "2025-06-21T11:14:56.954336Z"
    },
    "trusted": true
   },
   "outputs": [],
   "source": [
    "from sklearn.model_selection import train_test_split"
   ]
  },
  {
   "cell_type": "code",
   "execution_count": 29,
   "metadata": {
    "execution": {
     "iopub.execute_input": "2025-06-21T11:14:56.960204Z",
     "iopub.status.busy": "2025-06-21T11:14:56.959678Z",
     "iopub.status.idle": "2025-06-21T11:14:57.136833Z",
     "shell.execute_reply": "2025-06-21T11:14:57.135971Z",
     "shell.execute_reply.started": "2025-06-21T11:14:56.960177Z"
    },
    "trusted": true
   },
   "outputs": [],
   "source": [
    "x_train, x_test, y_train, y_test = train_test_split(x, y, test_size=0.2, random_state=42)"
   ]
  },
  {
   "cell_type": "code",
   "execution_count": 30,
   "metadata": {
    "execution": {
     "iopub.execute_input": "2025-06-21T11:14:57.138017Z",
     "iopub.status.busy": "2025-06-21T11:14:57.137708Z",
     "iopub.status.idle": "2025-06-21T11:14:57.142604Z",
     "shell.execute_reply": "2025-06-21T11:14:57.141694Z",
     "shell.execute_reply.started": "2025-06-21T11:14:57.137992Z"
    },
    "trusted": true
   },
   "outputs": [],
   "source": [
    "# models = {\n",
    "#     \"Lasso\": Lasso(),\n",
    "#     \"Ridge\": Ridge(),\n",
    "#     \"K-Neighbors Regressor\": KNeighborsRegressor(),\n",
    "#     \"Decision Tree\": DecisionTreeRegressor(),\n",
    "#     \"Random Forest Regressor\": RandomForestRegressor()\n",
    "# }"
   ]
  },
  {
   "cell_type": "code",
   "execution_count": 31,
   "metadata": {
    "execution": {
     "iopub.execute_input": "2025-06-21T11:14:57.144972Z",
     "iopub.status.busy": "2025-06-21T11:14:57.143873Z",
     "iopub.status.idle": "2025-06-21T11:14:57.162357Z",
     "shell.execute_reply": "2025-06-21T11:14:57.161325Z",
     "shell.execute_reply.started": "2025-06-21T11:14:57.144935Z"
    },
    "trusted": true
   },
   "outputs": [],
   "source": [
    "# scores = {}\n",
    "# for name, model in models.items():\n",
    "#     model.fit(x_train, y_train)\n",
    "#     y_pred = model.predict(x_test)\n",
    "#     r2 = r2_score(y_test, y_pred)\n",
    "#     scores[name] = r2\n",
    "#     print(f\"{name}: R2 Score = {r2:.4f}\")\n"
   ]
  },
  {
   "cell_type": "code",
   "execution_count": 32,
   "metadata": {
    "execution": {
     "iopub.execute_input": "2025-06-21T11:14:57.168117Z",
     "iopub.status.busy": "2025-06-21T11:14:57.167088Z",
     "iopub.status.idle": "2025-06-21T11:14:57.180864Z",
     "shell.execute_reply": "2025-06-21T11:14:57.179968Z",
     "shell.execute_reply.started": "2025-06-21T11:14:57.168088Z"
    },
    "trusted": true
   },
   "outputs": [],
   "source": [
    "# from sklearn.multiclass import OneVsRestClassifier\n",
    "# from sklearn.ensemble import RandomForestClassifier\n",
    "\n",
    "# model = OneVsRestClassifier(RandomForestClassifier())\n",
    "# model.fit(x_train, y_train)"
   ]
  },
  {
   "cell_type": "code",
   "execution_count": 33,
   "metadata": {
    "execution": {
     "iopub.execute_input": "2025-06-21T11:14:57.181997Z",
     "iopub.status.busy": "2025-06-21T11:14:57.181733Z",
     "iopub.status.idle": "2025-06-21T11:14:57.201035Z",
     "shell.execute_reply": "2025-06-21T11:14:57.199963Z",
     "shell.execute_reply.started": "2025-06-21T11:14:57.181978Z"
    },
    "trusted": true
   },
   "outputs": [],
   "source": [
    "# y_pred= model.predict(x_test)"
   ]
  },
  {
   "cell_type": "code",
   "execution_count": 34,
   "metadata": {
    "execution": {
     "iopub.execute_input": "2025-06-21T11:14:57.202395Z",
     "iopub.status.busy": "2025-06-21T11:14:57.202055Z",
     "iopub.status.idle": "2025-06-21T11:14:57.221952Z",
     "shell.execute_reply": "2025-06-21T11:14:57.220783Z",
     "shell.execute_reply.started": "2025-06-21T11:14:57.202366Z"
    },
    "trusted": true
   },
   "outputs": [],
   "source": [
    "# from sklearn.metrics import accuracy_score,classification_report,confusion_matrix\n",
    "\n",
    "# print(confusion_matrix(y_test,y_pred))\n",
    "# print(accuracy_score(y_test,y_pred))\n",
    "# print(classification_report(y_test,y_pred))"
   ]
  },
  {
   "cell_type": "code",
   "execution_count": 35,
   "metadata": {
    "execution": {
     "iopub.execute_input": "2025-06-21T11:14:57.223253Z",
     "iopub.status.busy": "2025-06-21T11:14:57.222967Z",
     "iopub.status.idle": "2025-06-21T11:14:57.247224Z",
     "shell.execute_reply": "2025-06-21T11:14:57.246027Z",
     "shell.execute_reply.started": "2025-06-21T11:14:57.223231Z"
    },
    "trusted": true
   },
   "outputs": [],
   "source": [
    "# model.score(x_test,y_pred)"
   ]
  },
  {
   "cell_type": "code",
   "execution_count": 36,
   "metadata": {
    "execution": {
     "iopub.execute_input": "2025-06-21T11:14:57.248987Z",
     "iopub.status.busy": "2025-06-21T11:14:57.248600Z",
     "iopub.status.idle": "2025-06-21T11:14:57.274324Z",
     "shell.execute_reply": "2025-06-21T11:14:57.273301Z",
     "shell.execute_reply.started": "2025-06-21T11:14:57.248955Z"
    },
    "trusted": true
   },
   "outputs": [
    {
     "data": {
      "text/html": [
       "<div>\n",
       "<style scoped>\n",
       "    .dataframe tbody tr th:only-of-type {\n",
       "        vertical-align: middle;\n",
       "    }\n",
       "\n",
       "    .dataframe tbody tr th {\n",
       "        vertical-align: top;\n",
       "    }\n",
       "\n",
       "    .dataframe thead th {\n",
       "        text-align: right;\n",
       "    }\n",
       "</style>\n",
       "<table border=\"1\" class=\"dataframe\">\n",
       "  <thead>\n",
       "    <tr style=\"text-align: right;\">\n",
       "      <th></th>\n",
       "      <th>Temparature</th>\n",
       "      <th>Humidity</th>\n",
       "      <th>Moisture</th>\n",
       "      <th>Soil Type</th>\n",
       "      <th>Crop Type</th>\n",
       "      <th>Nitrogen</th>\n",
       "      <th>Potassium</th>\n",
       "      <th>Phosphorous</th>\n",
       "    </tr>\n",
       "  </thead>\n",
       "  <tbody>\n",
       "    <tr>\n",
       "      <th>0</th>\n",
       "      <td>31</td>\n",
       "      <td>70</td>\n",
       "      <td>52</td>\n",
       "      <td>4</td>\n",
       "      <td>10</td>\n",
       "      <td>34</td>\n",
       "      <td>11</td>\n",
       "      <td>24</td>\n",
       "    </tr>\n",
       "    <tr>\n",
       "      <th>1</th>\n",
       "      <td>27</td>\n",
       "      <td>62</td>\n",
       "      <td>45</td>\n",
       "      <td>3</td>\n",
       "      <td>8</td>\n",
       "      <td>30</td>\n",
       "      <td>14</td>\n",
       "      <td>15</td>\n",
       "    </tr>\n",
       "    <tr>\n",
       "      <th>2</th>\n",
       "      <td>28</td>\n",
       "      <td>72</td>\n",
       "      <td>28</td>\n",
       "      <td>1</td>\n",
       "      <td>2</td>\n",
       "      <td>14</td>\n",
       "      <td>15</td>\n",
       "      <td>4</td>\n",
       "    </tr>\n",
       "    <tr>\n",
       "      <th>3</th>\n",
       "      <td>37</td>\n",
       "      <td>53</td>\n",
       "      <td>57</td>\n",
       "      <td>0</td>\n",
       "      <td>2</td>\n",
       "      <td>18</td>\n",
       "      <td>17</td>\n",
       "      <td>36</td>\n",
       "    </tr>\n",
       "    <tr>\n",
       "      <th>4</th>\n",
       "      <td>31</td>\n",
       "      <td>55</td>\n",
       "      <td>32</td>\n",
       "      <td>3</td>\n",
       "      <td>7</td>\n",
       "      <td>13</td>\n",
       "      <td>19</td>\n",
       "      <td>14</td>\n",
       "    </tr>\n",
       "  </tbody>\n",
       "</table>\n",
       "</div>"
      ],
      "text/plain": [
       "   Temparature  Humidity  Moisture  Soil Type  Crop Type  Nitrogen  Potassium  \\\n",
       "0           31        70        52          4         10        34         11   \n",
       "1           27        62        45          3          8        30         14   \n",
       "2           28        72        28          1          2        14         15   \n",
       "3           37        53        57          0          2        18         17   \n",
       "4           31        55        32          3          7        13         19   \n",
       "\n",
       "   Phosphorous  \n",
       "0           24  \n",
       "1           15  \n",
       "2            4  \n",
       "3           36  \n",
       "4           14  "
      ]
     },
     "execution_count": 36,
     "metadata": {},
     "output_type": "execute_result"
    }
   ],
   "source": [
    "test.head()"
   ]
  },
  {
   "cell_type": "code",
   "execution_count": 37,
   "metadata": {
    "execution": {
     "iopub.execute_input": "2025-06-21T11:14:57.275647Z",
     "iopub.status.busy": "2025-06-21T11:14:57.275327Z",
     "iopub.status.idle": "2025-06-21T11:14:57.296668Z",
     "shell.execute_reply": "2025-06-21T11:14:57.295585Z",
     "shell.execute_reply.started": "2025-06-21T11:14:57.275618Z"
    },
    "trusted": true
   },
   "outputs": [],
   "source": [
    "test['id']=test1['id'] "
   ]
  },
  {
   "cell_type": "code",
   "execution_count": 38,
   "metadata": {
    "execution": {
     "iopub.execute_input": "2025-06-21T11:14:57.298413Z",
     "iopub.status.busy": "2025-06-21T11:14:57.298031Z",
     "iopub.status.idle": "2025-06-21T11:14:57.335120Z",
     "shell.execute_reply": "2025-06-21T11:14:57.333803Z",
     "shell.execute_reply.started": "2025-06-21T11:14:57.298389Z"
    },
    "trusted": true
   },
   "outputs": [],
   "source": [
    "ordered_columns = [\n",
    "    'id', 'Temparature', 'Humidity', 'Moisture',\n",
    "    'Soil Type', 'Crop Type', 'Nitrogen', 'Potassium', 'Phosphorous'\n",
    "]\n",
    "\n",
    "# Apply to test or train\n",
    "test = test[ordered_columns]"
   ]
  },
  {
   "cell_type": "code",
   "execution_count": null,
   "metadata": {
    "execution": {
     "iopub.execute_input": "2025-06-21T11:15:15.204303Z",
     "iopub.status.busy": "2025-06-21T11:15:15.203424Z",
     "iopub.status.idle": "2025-06-21T11:15:15.208071Z",
     "shell.execute_reply": "2025-06-21T11:15:15.207246Z",
     "shell.execute_reply.started": "2025-06-21T11:15:15.204272Z"
    },
    "trusted": true
   },
   "outputs": [],
   "source": []
  },
  {
   "cell_type": "code",
   "execution_count": null,
   "metadata": {
    "execution": {
     "iopub.status.busy": "2025-06-21T11:14:57.387393Z",
     "iopub.status.idle": "2025-06-21T11:14:57.387718Z",
     "shell.execute_reply": "2025-06-21T11:14:57.387591Z",
     "shell.execute_reply.started": "2025-06-21T11:14:57.387574Z"
    },
    "trusted": true
   },
   "outputs": [],
   "source": [
    "sample_submission"
   ]
  },
  {
   "cell_type": "code",
   "execution_count": null,
   "metadata": {
    "execution": {
     "iopub.status.busy": "2025-06-21T11:14:57.388689Z",
     "iopub.status.idle": "2025-06-21T11:14:57.388955Z",
     "shell.execute_reply": "2025-06-21T11:14:57.388847Z",
     "shell.execute_reply.started": "2025-06-21T11:14:57.388836Z"
    },
    "trusted": true
   },
   "outputs": [],
   "source": [
    "top3_preds = np.argsort(probs1, axis=1)[:, -3:][:, ::-1]\n"
   ]
  },
  {
   "cell_type": "code",
   "execution_count": null,
   "metadata": {
    "execution": {
     "iopub.status.busy": "2025-06-21T11:14:57.390592Z",
     "iopub.status.idle": "2025-06-21T11:14:57.391062Z",
     "shell.execute_reply": "2025-06-21T11:14:57.390924Z",
     "shell.execute_reply.started": "2025-06-21T11:14:57.390905Z"
    },
    "trusted": true
   },
   "outputs": [],
   "source": [
    "label_map = {\n",
    "    0: '10-26-26',\n",
    "    1: '14-35-14',\n",
    "    2: '17-17-17',\n",
    "    3: '20-20',\n",
    "    4: '28-28',\n",
    "    5: 'DAP',\n",
    "    6: 'Urea',\n",
    "    7: 'NPK',\n",
    "    8: 'NPK 14-35-14',\n",
    "    9: 'NPK 17-17-17'\n",
    "}\n"
   ]
  },
  {
   "cell_type": "code",
   "execution_count": null,
   "metadata": {
    "execution": {
     "iopub.status.busy": "2025-06-21T11:14:57.392432Z",
     "iopub.status.idle": "2025-06-21T11:14:57.392784Z",
     "shell.execute_reply": "2025-06-21T11:14:57.392628Z",
     "shell.execute_reply.started": "2025-06-21T11:14:57.392614Z"
    },
    "trusted": true
   },
   "outputs": [],
   "source": [
    "submission.head(10)"
   ]
  },
  {
   "cell_type": "code",
   "execution_count": null,
   "metadata": {
    "trusted": true
   },
   "outputs": [],
   "source": []
  },
  {
   "cell_type": "code",
   "execution_count": 41,
   "metadata": {
    "execution": {
     "iopub.execute_input": "2025-06-21T11:15:23.288622Z",
     "iopub.status.busy": "2025-06-21T11:15:23.288190Z",
     "iopub.status.idle": "2025-06-21T11:15:35.669414Z",
     "shell.execute_reply": "2025-06-21T11:15:35.668540Z",
     "shell.execute_reply.started": "2025-06-21T11:15:23.288527Z"
    },
    "trusted": true
   },
   "outputs": [
    {
     "ename": "KeyboardInterrupt",
     "evalue": "",
     "output_type": "error",
     "traceback": [
      "\u001b[0;31m---------------------------------------------------------------------------\u001b[0m",
      "\u001b[0;31mKeyboardInterrupt\u001b[0m                         Traceback (most recent call last)",
      "\u001b[0;32m/tmp/ipykernel_35/2106470743.py\u001b[0m in \u001b[0;36m<cell line: 0>\u001b[0;34m()\u001b[0m\n\u001b[1;32m     12\u001b[0m     \u001b[0meval_metric\u001b[0m\u001b[0;34m=\u001b[0m\u001b[0;34m'mlogloss'\u001b[0m\u001b[0;34m\u001b[0m\u001b[0;34m\u001b[0m\u001b[0m\n\u001b[1;32m     13\u001b[0m )\n\u001b[0;32m---> 14\u001b[0;31m \u001b[0mxgb_model\u001b[0m\u001b[0;34m.\u001b[0m\u001b[0mfit\u001b[0m\u001b[0;34m(\u001b[0m\u001b[0mx_train\u001b[0m\u001b[0;34m,\u001b[0m \u001b[0my_train\u001b[0m\u001b[0;34m)\u001b[0m\u001b[0;34m\u001b[0m\u001b[0;34m\u001b[0m\u001b[0m\n\u001b[0m",
      "\u001b[0;32m/usr/local/lib/python3.11/dist-packages/xgboost/core.py\u001b[0m in \u001b[0;36minner_f\u001b[0;34m(*args, **kwargs)\u001b[0m\n\u001b[1;32m    728\u001b[0m             \u001b[0;32mfor\u001b[0m \u001b[0mk\u001b[0m\u001b[0;34m,\u001b[0m \u001b[0marg\u001b[0m \u001b[0;32min\u001b[0m \u001b[0mzip\u001b[0m\u001b[0;34m(\u001b[0m\u001b[0msig\u001b[0m\u001b[0;34m.\u001b[0m\u001b[0mparameters\u001b[0m\u001b[0;34m,\u001b[0m \u001b[0margs\u001b[0m\u001b[0;34m)\u001b[0m\u001b[0;34m:\u001b[0m\u001b[0;34m\u001b[0m\u001b[0;34m\u001b[0m\u001b[0m\n\u001b[1;32m    729\u001b[0m                 \u001b[0mkwargs\u001b[0m\u001b[0;34m[\u001b[0m\u001b[0mk\u001b[0m\u001b[0;34m]\u001b[0m \u001b[0;34m=\u001b[0m \u001b[0marg\u001b[0m\u001b[0;34m\u001b[0m\u001b[0;34m\u001b[0m\u001b[0m\n\u001b[0;32m--> 730\u001b[0;31m             \u001b[0;32mreturn\u001b[0m \u001b[0mfunc\u001b[0m\u001b[0;34m(\u001b[0m\u001b[0;34m**\u001b[0m\u001b[0mkwargs\u001b[0m\u001b[0;34m)\u001b[0m\u001b[0;34m\u001b[0m\u001b[0;34m\u001b[0m\u001b[0m\n\u001b[0m\u001b[1;32m    731\u001b[0m \u001b[0;34m\u001b[0m\u001b[0m\n\u001b[1;32m    732\u001b[0m         \u001b[0;32mreturn\u001b[0m \u001b[0minner_f\u001b[0m\u001b[0;34m\u001b[0m\u001b[0;34m\u001b[0m\u001b[0m\n",
      "\u001b[0;32m/usr/local/lib/python3.11/dist-packages/xgboost/sklearn.py\u001b[0m in \u001b[0;36mfit\u001b[0;34m(self, X, y, sample_weight, base_margin, eval_set, eval_metric, early_stopping_rounds, verbose, xgb_model, sample_weight_eval_set, base_margin_eval_set, feature_weights, callbacks)\u001b[0m\n\u001b[1;32m   1517\u001b[0m             )\n\u001b[1;32m   1518\u001b[0m \u001b[0;34m\u001b[0m\u001b[0m\n\u001b[0;32m-> 1519\u001b[0;31m             self._Booster = train(\n\u001b[0m\u001b[1;32m   1520\u001b[0m                 \u001b[0mparams\u001b[0m\u001b[0;34m,\u001b[0m\u001b[0;34m\u001b[0m\u001b[0;34m\u001b[0m\u001b[0m\n\u001b[1;32m   1521\u001b[0m                 \u001b[0mtrain_dmatrix\u001b[0m\u001b[0;34m,\u001b[0m\u001b[0;34m\u001b[0m\u001b[0;34m\u001b[0m\u001b[0m\n",
      "\u001b[0;32m/usr/local/lib/python3.11/dist-packages/xgboost/core.py\u001b[0m in \u001b[0;36minner_f\u001b[0;34m(*args, **kwargs)\u001b[0m\n\u001b[1;32m    728\u001b[0m             \u001b[0;32mfor\u001b[0m \u001b[0mk\u001b[0m\u001b[0;34m,\u001b[0m \u001b[0marg\u001b[0m \u001b[0;32min\u001b[0m \u001b[0mzip\u001b[0m\u001b[0;34m(\u001b[0m\u001b[0msig\u001b[0m\u001b[0;34m.\u001b[0m\u001b[0mparameters\u001b[0m\u001b[0;34m,\u001b[0m \u001b[0margs\u001b[0m\u001b[0;34m)\u001b[0m\u001b[0;34m:\u001b[0m\u001b[0;34m\u001b[0m\u001b[0;34m\u001b[0m\u001b[0m\n\u001b[1;32m    729\u001b[0m                 \u001b[0mkwargs\u001b[0m\u001b[0;34m[\u001b[0m\u001b[0mk\u001b[0m\u001b[0;34m]\u001b[0m \u001b[0;34m=\u001b[0m \u001b[0marg\u001b[0m\u001b[0;34m\u001b[0m\u001b[0;34m\u001b[0m\u001b[0m\n\u001b[0;32m--> 730\u001b[0;31m             \u001b[0;32mreturn\u001b[0m \u001b[0mfunc\u001b[0m\u001b[0;34m(\u001b[0m\u001b[0;34m**\u001b[0m\u001b[0mkwargs\u001b[0m\u001b[0;34m)\u001b[0m\u001b[0;34m\u001b[0m\u001b[0;34m\u001b[0m\u001b[0m\n\u001b[0m\u001b[1;32m    731\u001b[0m \u001b[0;34m\u001b[0m\u001b[0m\n\u001b[1;32m    732\u001b[0m         \u001b[0;32mreturn\u001b[0m \u001b[0minner_f\u001b[0m\u001b[0;34m\u001b[0m\u001b[0;34m\u001b[0m\u001b[0m\n",
      "\u001b[0;32m/usr/local/lib/python3.11/dist-packages/xgboost/training.py\u001b[0m in \u001b[0;36mtrain\u001b[0;34m(params, dtrain, num_boost_round, evals, obj, feval, maximize, early_stopping_rounds, evals_result, verbose_eval, xgb_model, callbacks, custom_metric)\u001b[0m\n\u001b[1;32m    179\u001b[0m         \u001b[0;32mif\u001b[0m \u001b[0mcb_container\u001b[0m\u001b[0;34m.\u001b[0m\u001b[0mbefore_iteration\u001b[0m\u001b[0;34m(\u001b[0m\u001b[0mbst\u001b[0m\u001b[0;34m,\u001b[0m \u001b[0mi\u001b[0m\u001b[0;34m,\u001b[0m \u001b[0mdtrain\u001b[0m\u001b[0;34m,\u001b[0m \u001b[0mevals\u001b[0m\u001b[0;34m)\u001b[0m\u001b[0;34m:\u001b[0m\u001b[0;34m\u001b[0m\u001b[0;34m\u001b[0m\u001b[0m\n\u001b[1;32m    180\u001b[0m             \u001b[0;32mbreak\u001b[0m\u001b[0;34m\u001b[0m\u001b[0;34m\u001b[0m\u001b[0m\n\u001b[0;32m--> 181\u001b[0;31m         \u001b[0mbst\u001b[0m\u001b[0;34m.\u001b[0m\u001b[0mupdate\u001b[0m\u001b[0;34m(\u001b[0m\u001b[0mdtrain\u001b[0m\u001b[0;34m,\u001b[0m \u001b[0mi\u001b[0m\u001b[0;34m,\u001b[0m \u001b[0mobj\u001b[0m\u001b[0;34m)\u001b[0m\u001b[0;34m\u001b[0m\u001b[0;34m\u001b[0m\u001b[0m\n\u001b[0m\u001b[1;32m    182\u001b[0m         \u001b[0;32mif\u001b[0m \u001b[0mcb_container\u001b[0m\u001b[0;34m.\u001b[0m\u001b[0mafter_iteration\u001b[0m\u001b[0;34m(\u001b[0m\u001b[0mbst\u001b[0m\u001b[0;34m,\u001b[0m \u001b[0mi\u001b[0m\u001b[0;34m,\u001b[0m \u001b[0mdtrain\u001b[0m\u001b[0;34m,\u001b[0m \u001b[0mevals\u001b[0m\u001b[0;34m)\u001b[0m\u001b[0;34m:\u001b[0m\u001b[0;34m\u001b[0m\u001b[0;34m\u001b[0m\u001b[0m\n\u001b[1;32m    183\u001b[0m             \u001b[0;32mbreak\u001b[0m\u001b[0;34m\u001b[0m\u001b[0;34m\u001b[0m\u001b[0m\n",
      "\u001b[0;32m/usr/local/lib/python3.11/dist-packages/xgboost/core.py\u001b[0m in \u001b[0;36mupdate\u001b[0;34m(self, dtrain, iteration, fobj)\u001b[0m\n\u001b[1;32m   2049\u001b[0m         \u001b[0;32mif\u001b[0m \u001b[0mfobj\u001b[0m \u001b[0;32mis\u001b[0m \u001b[0;32mNone\u001b[0m\u001b[0;34m:\u001b[0m\u001b[0;34m\u001b[0m\u001b[0;34m\u001b[0m\u001b[0m\n\u001b[1;32m   2050\u001b[0m             _check_call(\n\u001b[0;32m-> 2051\u001b[0;31m                 _LIB.XGBoosterUpdateOneIter(\n\u001b[0m\u001b[1;32m   2052\u001b[0m                     \u001b[0mself\u001b[0m\u001b[0;34m.\u001b[0m\u001b[0mhandle\u001b[0m\u001b[0;34m,\u001b[0m \u001b[0mctypes\u001b[0m\u001b[0;34m.\u001b[0m\u001b[0mc_int\u001b[0m\u001b[0;34m(\u001b[0m\u001b[0miteration\u001b[0m\u001b[0;34m)\u001b[0m\u001b[0;34m,\u001b[0m \u001b[0mdtrain\u001b[0m\u001b[0;34m.\u001b[0m\u001b[0mhandle\u001b[0m\u001b[0;34m\u001b[0m\u001b[0;34m\u001b[0m\u001b[0m\n\u001b[1;32m   2053\u001b[0m                 )\n",
      "\u001b[0;31mKeyboardInterrupt\u001b[0m: "
     ]
    }
   ],
   "source": [
    "import xgboost as xgb\n",
    "from sklearn.preprocessing import LabelEncoder\n",
    "\n",
    "\n",
    "xgb_model = xgb.XGBClassifier(\n",
    "    n_estimators=300,\n",
    "    learning_rate=0.1,\n",
    "    max_depth=6,\n",
    "    subsample=0.9,\n",
    "    colsample_bytree=0.9,\n",
    "    use_label_encoder=False,\n",
    "    eval_metric='mlogloss'\n",
    ")\n",
    "xgb_model.fit(x_train, y_train)\n"
   ]
  },
  {
   "cell_type": "code",
   "execution_count": 43,
   "metadata": {
    "execution": {
     "iopub.execute_input": "2025-06-21T11:33:50.113165Z",
     "iopub.status.busy": "2025-06-21T11:33:50.112462Z",
     "iopub.status.idle": "2025-06-21T11:33:50.126744Z",
     "shell.execute_reply": "2025-06-21T11:33:50.125159Z",
     "shell.execute_reply.started": "2025-06-21T11:33:50.113143Z"
    },
    "trusted": true
   },
   "outputs": [
    {
     "ename": "ImportError",
     "evalue": "cannot import name 'GridSearchC' from 'sklearn.model_selection' (/usr/local/lib/python3.11/dist-packages/sklearn/model_selection/__init__.py)",
     "output_type": "error",
     "traceback": [
      "\u001b[0;31m---------------------------------------------------------------------------\u001b[0m",
      "\u001b[0;31mImportError\u001b[0m                               Traceback (most recent call last)",
      "\u001b[0;32m/tmp/ipykernel_35/3208642257.py\u001b[0m in \u001b[0;36m<cell line: 0>\u001b[0;34m()\u001b[0m\n\u001b[0;32m----> 1\u001b[0;31m \u001b[0;32mfrom\u001b[0m \u001b[0msklearn\u001b[0m\u001b[0;34m.\u001b[0m\u001b[0mmodel_selection\u001b[0m \u001b[0;32mimport\u001b[0m \u001b[0mGridSearchC\u001b[0m\u001b[0;34m\u001b[0m\u001b[0;34m\u001b[0m\u001b[0m\n\u001b[0m",
      "\u001b[0;31mImportError\u001b[0m: cannot import name 'GridSearchC' from 'sklearn.model_selection' (/usr/local/lib/python3.11/dist-packages/sklearn/model_selection/__init__.py)"
     ]
    }
   ],
   "source": [
    "from sklearn.model_selection import GridSearchC\n"
   ]
  },
  {
   "cell_type": "code",
   "execution_count": 42,
   "metadata": {
    "execution": {
     "iopub.execute_input": "2025-06-21T11:15:40.803497Z",
     "iopub.status.busy": "2025-06-21T11:15:40.803184Z",
     "iopub.status.idle": "2025-06-21T11:33:50.110885Z",
     "shell.execute_reply": "2025-06-21T11:33:50.109980Z",
     "shell.execute_reply.started": "2025-06-21T11:15:40.803475Z"
    },
    "trusted": true
   },
   "outputs": [
    {
     "name": "stdout",
     "output_type": "stream",
     "text": [
      "Fitting 3 folds for each of 16 candidates, totalling 48 fits\n",
      "Best Parameters: {'colsample_bytree': 0.7, 'learning_rate': 0.05, 'max_depth': 6, 'n_estimators': 200, 'subsample': 0.7}\n",
      "Best Accuracy: 0.18589166666666668\n",
      "ok\n"
     ]
    }
   ],
   "source": [
    "# Parameter grid\n",
    "param_grid = {\n",
    "    'max_depth': [4, 6],\n",
    "    'learning_rate': [0.01, 0.05],\n",
    "    'n_estimators': [100, 200],\n",
    "    'subsample': [0.7],\n",
    "    'colsample_bytree': [0.7, 1.0]\n",
    "}\n",
    "\n",
    "# Grid Search\n",
    "grid = GridSearchCV(\n",
    "    estimator=xgb_model,\n",
    "    param_grid=param_grid,\n",
    "    scoring='accuracy',\n",
    "    cv=3,\n",
    "    verbose=1,\n",
    "    n_jobs=-1\n",
    ")\n",
    "\n",
    "grid.fit(x_train, y_train)\n",
    "\n",
    "\n",
    "# Best params and score\n",
    "print(\"Best Parameters:\", grid.best_params_)\n",
    "print(\"Best Accuracy:\", grid.best_score_)\n",
    "\n",
    "print('ok')\n",
    "\n"
   ]
  },
  {
   "cell_type": "code",
   "execution_count": 44,
   "metadata": {
    "execution": {
     "iopub.execute_input": "2025-06-21T11:34:37.194446Z",
     "iopub.status.busy": "2025-06-21T11:34:37.194124Z",
     "iopub.status.idle": "2025-06-21T11:34:37.199093Z",
     "shell.execute_reply": "2025-06-21T11:34:37.197889Z",
     "shell.execute_reply.started": "2025-06-21T11:34:37.194423Z"
    },
    "trusted": true
   },
   "outputs": [],
   "source": [
    "\n",
    "# Evaluate on validation set\n",
    "best_model = grid.best_estimator_\n"
   ]
  },
  {
   "cell_type": "code",
   "execution_count": 45,
   "metadata": {
    "execution": {
     "iopub.execute_input": "2025-06-21T11:34:48.430256Z",
     "iopub.status.busy": "2025-06-21T11:34:48.429904Z",
     "iopub.status.idle": "2025-06-21T11:34:52.169009Z",
     "shell.execute_reply": "2025-06-21T11:34:52.168133Z",
     "shell.execute_reply.started": "2025-06-21T11:34:48.430227Z"
    },
    "trusted": true
   },
   "outputs": [],
   "source": [
    "# Predict class probabilities\n",
    "probs_xgb1 = best_model.predict_proba(test)\n",
    "\n",
    "# Get top 3 indices per row\n",
    "top3_preds = np.argsort(probs_xgb1, axis=1)[:, -3:][:, ::-1]  # sorted descending\n"
   ]
  },
  {
   "cell_type": "code",
   "execution_count": null,
   "metadata": {
    "execution": {
     "iopub.status.busy": "2025-06-21T11:14:57.404595Z",
     "iopub.status.idle": "2025-06-21T11:14:57.405076Z",
     "shell.execute_reply": "2025-06-21T11:14:57.404907Z",
     "shell.execute_reply.started": "2025-06-21T11:14:57.404889Z"
    },
    "trusted": true
   },
   "outputs": [],
   "source": [
    "# # Predict class probabilities\n",
    "# probs_xgb = xgb_model .predict_proba(test)\n",
    "\n",
    "# # Get top 3 indices per row\n",
    "# top3_preds = np.argsort(probs_xgb, axis=1)[:, -3:][:, ::-1]  # sorted descending\n"
   ]
  },
  {
   "cell_type": "code",
   "execution_count": 46,
   "metadata": {
    "execution": {
     "iopub.execute_input": "2025-06-21T11:35:05.036885Z",
     "iopub.status.busy": "2025-06-21T11:35:05.036256Z",
     "iopub.status.idle": "2025-06-21T11:35:05.927329Z",
     "shell.execute_reply": "2025-06-21T11:35:05.926345Z",
     "shell.execute_reply.started": "2025-06-21T11:35:05.036859Z"
    },
    "trusted": true
   },
   "outputs": [],
   "source": [
    "label_map = {\n",
    "    0: '10-26-26',\n",
    "    1: '14-35-14',\n",
    "    2: '17-17-17',\n",
    "    3: '20-20',\n",
    "    4: '28-28',\n",
    "    5: 'DAP',\n",
    "    6: 'Urea',\n",
    "    7: 'NPK',\n",
    "    8: 'NPK 14-35-14',\n",
    "    9: 'NPK 17-17-17'\n",
    "}\n",
    "# Convert top3_preds (e.g. [[5, 4, 3], [2, 6, 0]]) to names\n",
    "submission_xgb_cv = pd.DataFrame()\n",
    "submission_xgb_cv['id'] = test['id']\n",
    "submission_xgb_cv['Fertilizer Name'] = [\n",
    "    ' '.join([label_map[i] for i in row]) for row in top3_preds\n",
    "]\n",
    "\n",
    " # Save for submission\n",
    "submission_xgb_cv.to_csv('submission_xgb_cv.csv', index=False)"
   ]
  },
  {
   "cell_type": "code",
   "execution_count": 47,
   "metadata": {
    "execution": {
     "iopub.execute_input": "2025-06-21T11:35:23.411870Z",
     "iopub.status.busy": "2025-06-21T11:35:23.411534Z",
     "iopub.status.idle": "2025-06-21T11:35:23.421262Z",
     "shell.execute_reply": "2025-06-21T11:35:23.420367Z",
     "shell.execute_reply.started": "2025-06-21T11:35:23.411848Z"
    },
    "trusted": true
   },
   "outputs": [
    {
     "data": {
      "text/html": [
       "<div>\n",
       "<style scoped>\n",
       "    .dataframe tbody tr th:only-of-type {\n",
       "        vertical-align: middle;\n",
       "    }\n",
       "\n",
       "    .dataframe tbody tr th {\n",
       "        vertical-align: top;\n",
       "    }\n",
       "\n",
       "    .dataframe thead th {\n",
       "        text-align: right;\n",
       "    }\n",
       "</style>\n",
       "<table border=\"1\" class=\"dataframe\">\n",
       "  <thead>\n",
       "    <tr style=\"text-align: right;\">\n",
       "      <th></th>\n",
       "      <th>id</th>\n",
       "      <th>Fertilizer Name</th>\n",
       "    </tr>\n",
       "  </thead>\n",
       "  <tbody>\n",
       "    <tr>\n",
       "      <th>0</th>\n",
       "      <td>750000</td>\n",
       "      <td>28-28 20-20 DAP</td>\n",
       "    </tr>\n",
       "    <tr>\n",
       "      <th>1</th>\n",
       "      <td>750001</td>\n",
       "      <td>17-17-17 20-20 10-26-26</td>\n",
       "    </tr>\n",
       "    <tr>\n",
       "      <th>2</th>\n",
       "      <td>750002</td>\n",
       "      <td>20-20 10-26-26 28-28</td>\n",
       "    </tr>\n",
       "    <tr>\n",
       "      <th>3</th>\n",
       "      <td>750003</td>\n",
       "      <td>14-35-14 17-17-17 10-26-26</td>\n",
       "    </tr>\n",
       "    <tr>\n",
       "      <th>4</th>\n",
       "      <td>750004</td>\n",
       "      <td>20-20 10-26-26 17-17-17</td>\n",
       "    </tr>\n",
       "  </tbody>\n",
       "</table>\n",
       "</div>"
      ],
      "text/plain": [
       "       id             Fertilizer Name\n",
       "0  750000             28-28 20-20 DAP\n",
       "1  750001     17-17-17 20-20 10-26-26\n",
       "2  750002        20-20 10-26-26 28-28\n",
       "3  750003  14-35-14 17-17-17 10-26-26\n",
       "4  750004     20-20 10-26-26 17-17-17"
      ]
     },
     "execution_count": 47,
     "metadata": {},
     "output_type": "execute_result"
    }
   ],
   "source": [
    "submission_xgb_cv.head()"
   ]
  },
  {
   "cell_type": "code",
   "execution_count": null,
   "metadata": {
    "trusted": true
   },
   "outputs": [],
   "source": []
  }
 ],
 "metadata": {
  "kaggle": {
   "accelerator": "none",
   "dataSources": [
    {
     "databundleVersionId": 12184666,
     "sourceId": 91717,
     "sourceType": "competition"
    }
   ],
   "dockerImageVersionId": 31040,
   "isGpuEnabled": false,
   "isInternetEnabled": true,
   "language": "python",
   "sourceType": "notebook"
  },
  "kernelspec": {
   "display_name": "Python 3",
   "language": "python",
   "name": "python3"
  },
  "language_info": {
   "codemirror_mode": {
    "name": "ipython",
    "version": 3
   },
   "file_extension": ".py",
   "mimetype": "text/x-python",
   "name": "python",
   "nbconvert_exporter": "python",
   "pygments_lexer": "ipython3",
   "version": "3.11.11"
  }
 },
 "nbformat": 4,
 "nbformat_minor": 4
}
